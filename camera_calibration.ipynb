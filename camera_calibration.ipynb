{
 "cells": [
  {
   "cell_type": "code",
   "execution_count": 2,
   "id": "0c6ea2f1",
   "metadata": {},
   "outputs": [
    {
     "name": "stdout",
     "output_type": "stream",
     "text": [
      "Camera Intrinsic Matrix K:\n",
      "[[2.66666667e+03 0.00000000e+00 9.60000000e+02]\n",
      " [0.00000000e+00 2.66666667e+03 5.40000000e+02]\n",
      " [0.00000000e+00 0.00000000e+00 1.00000000e+00]]\n"
     ]
    }
   ],
   "source": [
    "import numpy as np\n",
    "\n",
    "# Blender camera settings\n",
    "focal_length_mm = 50  # in mm\n",
    "sensor_width_mm = 36  # in mm (default full-frame)\n",
    "image_width_px = 1920\n",
    "image_height_px = 1080\n",
    "\n",
    "# Convert focal length to pixels\n",
    "fx = focal_length_mm * (image_width_px / sensor_width_mm)\n",
    "fy = fx  # square pixels assumed\n",
    "\n",
    "# Principal point (assuming centre of image)\n",
    "cx = image_width_px / 2\n",
    "cy = image_height_px / 2\n",
    "\n",
    "# Camera intrinsic matrix K\n",
    "K = np.array([[fx, 0, cx], [0, fy, cy], [0, 0, 1]], dtype=np.float64)\n",
    "\n",
    "print(\"Camera Intrinsic Matrix K:\")\n",
    "print(K)"
   ]
  },
  {
   "cell_type": "code",
   "execution_count": 5,
   "id": "1e445743",
   "metadata": {},
   "outputs": [
    {
     "name": "stderr",
     "output_type": "stream",
     "text": [
      "I0000 00:00:1744222922.779275  249321 gl_context.cc:369] GL version: 2.1 (2.1 Metal - 89.3), renderer: Apple M2\n",
      "W0000 00:00:1744222922.779762  249321 face_landmarker_graph.cc:174] Sets FaceBlendshapesGraph acceleration to xnnpack by default.\n",
      "W0000 00:00:1744222922.786264  286905 inference_feedback_manager.cc:114] Feedback manager requires a model with a single signature inference. Disabling support for feedback tensors.\n",
      "W0000 00:00:1744222922.801197  286905 inference_feedback_manager.cc:114] Feedback manager requires a model with a single signature inference. Disabling support for feedback tensors.\n"
     ]
    },
    {
     "name": "stdout",
     "output_type": "stream",
     "text": [
      "Front: (478, 2)\n",
      "Left: (478, 2)\n",
      "Right: (478, 2)\n"
     ]
    }
   ],
   "source": [
    "import mediapipe as mp\n",
    "import cv2\n",
    "import numpy as np\n",
    "\n",
    "# Paths\n",
    "MODEL_PATH = \"face_landmarker.task\"\n",
    "front_image_path = \"front.png\"\n",
    "left_image_path = \"left.png\"\n",
    "right_image_path = \"right.png\"\n",
    "\n",
    "# Setup MediaPipe\n",
    "BaseOptions = mp.tasks.BaseOptions\n",
    "FaceLandmarker = mp.tasks.vision.FaceLandmarker\n",
    "FaceLandmarkerOptions = mp.tasks.vision.FaceLandmarkerOptions\n",
    "VisionRunningMode = mp.tasks.vision.RunningMode\n",
    "\n",
    "options = FaceLandmarkerOptions(\n",
    "    base_options=BaseOptions(model_asset_path=MODEL_PATH),\n",
    "    running_mode=VisionRunningMode.IMAGE,\n",
    ")\n",
    "\n",
    "\n",
    "def extract_landmarks(image_path, landmarker):\n",
    "    image = cv2.imread(image_path)\n",
    "    image_rgb = cv2.cvtColor(image, cv2.COLOR_BGR2RGB)\n",
    "    mp_image = mp.Image(image_format=mp.ImageFormat.SRGB, data=image_rgb)\n",
    "    result = landmarker.detect(mp_image)\n",
    "\n",
    "    if not result.face_landmarks:\n",
    "        raise ValueError(f\"No face detected in {image_path}\")\n",
    "\n",
    "    landmarks = result.face_landmarks[0]\n",
    "    pts = np.array([[lm.x * image.shape[1], lm.y * image.shape[0]] for lm in landmarks])\n",
    "    return pts\n",
    "\n",
    "\n",
    "with FaceLandmarker.create_from_options(options) as landmarker:\n",
    "    pts_front = extract_landmarks(front_image_path, landmarker)\n",
    "    pts_left = extract_landmarks(left_image_path, landmarker)\n",
    "    pts_right = extract_landmarks(right_image_path, landmarker)\n",
    "\n",
    "# Confirm shape\n",
    "print(\"Front:\", pts_front.shape)\n",
    "print(\"Left:\", pts_left.shape)\n",
    "print(\"Right:\", pts_right.shape)"
   ]
  },
  {
   "cell_type": "code",
   "execution_count": null,
   "id": "ffb253d9",
   "metadata": {},
   "outputs": [
    {
     "ename": "NameError",
     "evalue": "name 'visible_front' is not defined",
     "output_type": "error",
     "traceback": [
      "\u001b[0;31m---------------------------------------------------------------------------\u001b[0m",
      "\u001b[0;31mNameError\u001b[0m                                 Traceback (most recent call last)",
      "Cell \u001b[0;32mIn[7], line 3\u001b[0m\n\u001b[1;32m      1\u001b[0m triangulated_points \u001b[38;5;241m=\u001b[39m np\u001b[38;5;241m.\u001b[39mfull((\u001b[38;5;241m478\u001b[39m, \u001b[38;5;241m3\u001b[39m), np\u001b[38;5;241m.\u001b[39mnan)\n\u001b[1;32m      2\u001b[0m \u001b[38;5;28;01mfor\u001b[39;00m i \u001b[38;5;129;01min\u001b[39;00m \u001b[38;5;28mrange\u001b[39m(\u001b[38;5;241m478\u001b[39m):\n\u001b[0;32m----> 3\u001b[0m     \u001b[38;5;28;01mif\u001b[39;00m \u001b[43mvisible_front\u001b[49m[i] \u001b[38;5;129;01mand\u001b[39;00m visible_left[i]:\n\u001b[1;32m      4\u001b[0m         p3d \u001b[38;5;241m=\u001b[39m triangulate_points(P_front, P_left, pts_front[i:i\u001b[38;5;241m+\u001b[39m\u001b[38;5;241m1\u001b[39m], pts_left[i:i\u001b[38;5;241m+\u001b[39m\u001b[38;5;241m1\u001b[39m])\n\u001b[1;32m      5\u001b[0m     \u001b[38;5;28;01melif\u001b[39;00m visible_front[i] \u001b[38;5;129;01mand\u001b[39;00m visible_right[i]:\n",
      "\u001b[0;31mNameError\u001b[0m: name 'visible_front' is not defined"
     ]
    }
   ],
   "source": [
    "triangulated_points = np.full((478, 3), np.nan)\n",
    "for i in range(478):\n",
    "    if visible_front[i] and visible_left[i]:\n",
    "        p3d = triangulate_points(\n",
    "            P_front, P_left, pts_front[i : i + 1], pts_left[i : i + 1]\n",
    "        )\n",
    "    elif visible_front[i] and visible_right[i]:\n",
    "        p3d = triangulate_points(\n",
    "            P_front, P_right, pts_front[i : i + 1], pts_right[i : i + 1]\n",
    "        )\n",
    "    else:\n",
    "        continue\n",
    "    triangulated_points[i] = p3d"
   ]
  }
 ],
 "metadata": {
  "kernelspec": {
   "display_name": "py39",
   "language": "python",
   "name": "python3"
  },
  "language_info": {
   "codemirror_mode": {
    "name": "ipython",
    "version": 3
   },
   "file_extension": ".py",
   "mimetype": "text/x-python",
   "name": "python",
   "nbconvert_exporter": "python",
   "pygments_lexer": "ipython3",
   "version": "3.9.21"
  }
 },
 "nbformat": 4,
 "nbformat_minor": 5
}
